{
  "cells": [
    {
      "cell_type": "markdown",
      "metadata": {
        "id": "A4dQSoxo1CWP"
      },
      "source": [
        "# Introduction\n",
        "\n",
        "To-Go is a new business venture to get more fast food on-campus. The aim of this project is to design a program that simulates a fast-food environment. To do so, we will be use two small data files in .csv format, which will manipulate in order to get a data frame which will be used as the input of the fast-food simulator program."
      ]
    },
    {
      "cell_type": "markdown",
      "metadata": {
        "id": "h5NsbgMp1onf"
      },
      "source": [
        "## Section 1: Data loading and manipulation"
      ]
    },
    {
      "cell_type": "markdown",
      "metadata": {
        "id": "dPagEbppo3sz"
      },
      "source": [
        "The two files that are located in a dropbox:\n",
        "1. `menu.csv`: A table that shows the code to be entered in the fast food menu item keyboard to get a certain food. It also contains the amount of products available. The file can be read from this address: https://www.dropbox.com/s/aer7yfyzrd6yog5/menu.csv?raw=1\n",
        "\n",
        "2. `foods.csv`: A table with the name of each food (without capitalisation), the category and the price. The file can be read from this address: https://www.dropbox.com/s/ln97rid8o3bdh1h/foods.csv?raw=1"
      ]
    },
    {
      "cell_type": "markdown",
      "metadata": {
        "id": "NTtyOuwqpkIS"
      },
      "source": [
        "By running the following code cells, you can to read and print the two files as pandas data frames:"
      ]
    },
    {
      "cell_type": "code",
      "execution_count": null,
      "metadata": {
        "id": "8ijTGwE_to0o"
      },
      "outputs": [],
      "source": [
        "import pandas as pd"
      ]
    },
    {
      "cell_type": "code",
      "execution_count": null,
      "metadata": {
        "id": "RR8mjH5Wpqxp"
      },
      "outputs": [],
      "source": [
        "menu = pd.read_csv('https://www.dropbox.com/s/aer7yfyzrd6yog5/menu.csv?raw=1')\n",
        "menu"
      ]
    },
    {
      "cell_type": "code",
      "execution_count": null,
      "metadata": {
        "id": "pi-nIxExpy7c"
      },
      "outputs": [],
      "source": [
        "foods = pd.read_csv('https://www.dropbox.com/s/ln97rid8o3bdh1h/foods.csv?raw=1')\n",
        "foods\n"
      ]
    },
    {
      "cell_type": "markdown",
      "metadata": {
        "id": "3Ooayjib50V-"
      },
      "source": [
        "### Question 1: Standardising the column names\n",
        "\n",
        "The food names are not written exactly in the same on both data frames! Most notably, you can see that in the `foods` data frame the foods have the brand before the food name, whereas in the `menu` data frame the foods are capitalised and do not have the brand name before. Therefore, you need to create and **apply** a function which cleans the `food` entries of the `foods` data frame to make them look **the same way** as in the `menu` data frame!"
      ]
    },
    {
      "cell_type": "code",
      "source": [
        "# Defining a function to standardize the foods in the food table\n",
        "def change_name(x):\n",
        "  #split the strings that have 's\n",
        "  name = x.split(\"'s \", 1)\n",
        "  return name[1].title()\n",
        "\n",
        "#Applying the function to the foods column in the food table\n",
        "foods['food'] = foods['food'].apply(change_name)\n",
        "\n",
        "foods"
      ],
      "metadata": {
        "id": "ABhvELZPpkss"
      },
      "execution_count": null,
      "outputs": []
    },
    {
      "cell_type": "markdown",
      "metadata": {
        "id": "k_YBsL8V50WA"
      },
      "source": [
        "### Question 2: Merging the Datasets\n",
        "\n",
        "Once that both columns look the same, you need to **merge** them as a single data frame so that this can be used in the program.\n",
        "\n",
        "*Hint:* The merged data frame can have `menu_number` as the index, and all the information from the `foods` data frame next to each product."
      ]
    },
    {
      "cell_type": "code",
      "source": [
        "## use this cell to merge foods into menu, your output should look like this\n",
        "# merging the food and menu table using an outer join and setting menu_number as the index for the new table\n",
        "merged_data = menu.merge(foods, on='food', how='outer').set_index('menu_number').sort_values('menu_number')\n",
        "\n",
        "merged_data"
      ],
      "metadata": {
        "id": "hkCFyIyoqhb5"
      },
      "execution_count": null,
      "outputs": []
    },
    {
      "cell_type": "markdown",
      "metadata": {
        "id": "NifUbvq2tKYq"
      },
      "source": [
        "### Question 3: Changing values in a data frame\n",
        "\n",
        "Oops! I forgot to add three Chips in B4! Can you add them to the data frame please?"
      ]
    },
    {
      "cell_type": "code",
      "source": [
        "## Use this cell to add three units of Chips to slot B4, output should look like this\n",
        "# Adding chips to menu slot B4\n",
        "merged_data.loc['B4'] = ['Chips', 3.0, 'side', 3.00]\n",
        "\n",
        "merged_data"
      ],
      "metadata": {
        "id": "1WNxZnJ-qpnZ"
      },
      "execution_count": null,
      "outputs": []
    },
    {
      "cell_type": "markdown",
      "metadata": {
        "id": "M2yAfKwc1s1F"
      },
      "source": [
        "## Section 2: Fast-Food Simulation Program"
      ]
    },
    {
      "cell_type": "markdown",
      "metadata": {
        "id": "kPLm-wTF12Wz"
      },
      "source": [
        "Once that you have generated your merged dataset, you will use the following code cell to write a small program with the following *four* options:\n",
        "\n",
        "1. **Admin login**: This option will simulate how the fast-food operator validates their credentials. When this option is selected, the user should be prompted to input their username and password. The username should be *admin* and the password should be any number smaller than *10* (including float and negative numbers). You should allow the user to try *four* times, if all of them are incorrect, then the program stops and the program cell needs to be run again.\n",
        "\n",
        "  * Note: Once that an admin has logged in, this option has to be disabled (i.e. the user cannot go back and select this option).\n",
        "\n",
        "2. **Add products**: This option can only be accessed once option 1 has been completed, otherwise the message *login first!* should be displayed and the program should go back to the main menu. In this option, the admin will be shown the list of foods and categories in the fast-food menu. Then, the admin can input a menu number  to add *one more product* for that certain menu slot. Afterwards, the program should show the new foods and go back to the main menu.\n",
        "\n",
        "  * Note: Keep in mind that each space in the fast-food menu can hold a maximum of *eight* products (of the same food, of course). Also, you cannot add products in the empty menu slots. Therefore, your program should warn the admin in case that they want to add more products of a specific food in a menu slot, or if the admin wants to add products in an empty slot.\n",
        "\n",
        "3. **Buy food**: This option can be accessed by \"anyone\", so there is no need for a validation. If this option is selected, the user will be shown the list of foods, amounts and prices. Then, the user will be requested to select one food item based on the `menu_number`. Once the food is selected, your program must display the price of the selected product. Then, the user will be prompted to pay. To simulate this payment, you will ask the user for an input and write any positive number (if the user inputs something invalid, ask to try again). Then, your program must check this number against the price of the product to be bought. If the input number is larger than the price, then you should return *your change is...* and the subtraction of the payment minus the price of the snack. If the number is equal to the price, then you must return *thanks for paying*. Else, you should output *you need to pay more* and allow the user to write another amount. After the \"purchase\", you should output to the user the number of products left for that particular food (therefore, you need to update the data frame!). Notice that if there were zero products left for the food selected, then you must prompt this to the user in advance before letting them buy, and ask them to select another food.\n",
        "\n",
        "4. **Exit**"
      ]
    },
    {
      "cell_type": "code",
      "source": [
        "# ------- Question 1 -------\n",
        "## Defining a function to simulate admin login. The user has 4 attempts after which the code breaks\n",
        "def admin_login():\n",
        "  login_attempts = 4\n",
        "  #Referencing the logged_in and loop variables\n",
        "  global logged_in\n",
        "  global loop\n",
        "  while login_attempts > 0 and not logged_in:\n",
        "    try:\n",
        "      # get user input to enter password and username\n",
        "      adminUsername = input(\"\\nEnter username: \")\n",
        "      adminPassword = float(input(\"\\nEnter password: \"))\n",
        "      # Set admin login credentials. password = any number less than 10 (it takes float and negative values), username is set to 'admin' (upper or lowercase)\n",
        "      if adminUsername.lower() == \"admin\" and (adminPassword < 10):\n",
        "        logged_in = True\n",
        "        print(\"\\nLogin successful! \\U0001f44d\")\n",
        "        break\n",
        "      else:\n",
        "        # Warining to user if they input wrong login details\n",
        "        login_attempts -= 1\n",
        "        print(f\"\\nInvalid username or password. You have {login_attempts} attempts left. \\U0001F615\")\n",
        "    except ValueError:\n",
        "        login_attempts -= 1\n",
        "        print(f\"\\nInvalid username or password. You have {login_attempts} attempts left. \\U0001F615\")\n",
        "    # The program stops once the user has used up all four login attempts. User will have to run cell again\n",
        "    if login_attempts == 0:\n",
        "      loop = False\n",
        "      print(\"\\nToo many login attempts. Login disabled. Run program cell again \\U0001F644\")\n",
        "      break\n",
        "\n",
        "# ------- Question 2 -------\n",
        "## Defining a function to allow the admin to add product to a menu slot\n",
        "def add_products():\n",
        "    global merged_data\n",
        "    print('\\nFood Menu')\n",
        "    print(merged_data)\n",
        "\n",
        "    select_menu_no = input('\\nSelect menu number to add one more product: ').upper()\n",
        "    # Warning if a user inputs a menu number that is not in the DataFrame\n",
        "    if select_menu_no not in merged_data.index:\n",
        "      print(\"\\nInvalid menu number \\U0001F615\")\n",
        "      return add_products()\n",
        "    # Warning message to the user if the amount in a certain food menu slot is = 8\n",
        "    elif merged_data.loc[select_menu_no]['amount'] == 8:\n",
        "        print('\\n This menu slot is full! space in the fast-food menu can hold a maximum of eight products. Try again \\U0001F622')\n",
        "        return add_products()\n",
        "    # Warning to user if they want to add product to an empty menu slot\n",
        "    elif not merged_data.loc[select_menu_no].notna().all():\n",
        "      print(\"\\nCannot add product in an empty slot. Try again \\U0001F622\")\n",
        "      return add_products()\n",
        "    # Increase the amount of a certain food by 1\n",
        "    else:\n",
        "      merged_data.at[select_menu_no, 'amount'] += 1\n",
        "      print(merged_data)\n",
        "\n",
        "#------- Question 3 -------\n",
        "## Defining a function to get valid payment input\n",
        "def get_valid_payment():\n",
        "  while True:\n",
        "    payment = input(\"\\nPlease enter payment amount: \")\n",
        "    try:\n",
        "      # Ensuring user only inputs positive numeric values\n",
        "      payment = float(payment)\n",
        "      if payment < 0:\n",
        "        raise ValueError\n",
        "      return payment\n",
        "    except ValueError:\n",
        "      print(\"\\nInvalid input. Please enter a positive number \\U0001F615\")\n",
        "\n",
        "## Defining a function to allow user buy a certain food\n",
        "def buy_food():\n",
        "  print('\\nFood Menu')\n",
        "  food_menu = merged_data.loc[merged_data['food'].notnull(), ['food', 'amount', 'price']]\n",
        "  print(food_menu)\n",
        "\n",
        "  # Get the selected food item\n",
        "  select_food = input(\"\\nPlease select a food item by menu number: \").upper()\n",
        "  # Warning if the user inputs a menu number that is not in the DataFrame\n",
        "  if select_food not in food_menu.index:\n",
        "    print(f\"\\nInvalid menu number {select_food}, please try again \\U0001F615\")\n",
        "    return buy_food()\n",
        "  # Warning if the amount in a certain menu slot is 0, it tells the user that it is out of stock\n",
        "  elif food_menu.loc[select_food]['amount'] == 0:\n",
        "    print('\\nOut of Stock! Please buy something else \\U0001F61E')\n",
        "    return buy_food()\n",
        "  else:\n",
        "    #Else it prints the food and price of the food\n",
        "    food_price = food_menu.loc[select_food]['price']\n",
        "    print(f\"\\nThe price of {food_menu.loc[select_food]['food']} is £{food_price}\")\n",
        "    # Get the payment amount and handle change\n",
        "    payment = get_valid_payment()\n",
        "    # Return the change amount in 2 decimal places\n",
        "    change = round(payment - food_price, 2)\n",
        "    if change > 0:\n",
        "      print(f\"\\nYour change is £{change}.\")\n",
        "    # Warning if the user inputs an amount less than the food price User has to renter an amount equal or greater than food price\n",
        "    else:\n",
        "      while change < 0:\n",
        "        print(f\"\\nYou need to pay more! Amount inputed is less than £{food_price} \\U0001F914\")\n",
        "        payment = get_valid_payment()\n",
        "        change = round(payment - food_price, 2)\n",
        "        if change > 0:\n",
        "          print(f\"\\nYour change is £{change}.\")\n",
        "\n",
        "    # Update the food inventory\n",
        "    merged_data.at[select_food, 'amount'] -= 1\n",
        "\n",
        "    print(\"\\nThank you for paying \\U0001f44d\")\n",
        "\n",
        "    print(\"\\nThere are {} left for this product\".format(merged_data.loc[select_food]['amount']))\n",
        "\n",
        "\n",
        "loop = True\n",
        "logged_in = False\n",
        "while loop == True:\n",
        "  print('\\nWelcome to the To-Go fast-food menu. Select an option:')\n",
        "  print('\\n1. Log in (admin only)')\n",
        "  print('\\n2. Add one more product of a certain food (admin only)')\n",
        "  print('\\n3. Buy products')\n",
        "  print('\\n4. Exit')\n",
        "  # then you ask the user for options\n",
        "  user_input = input('\\nPlease make a choice(1-4): ')\n",
        "\n",
        "\n",
        "  # If user inputs 1, it prompts user to login as admin.\n",
        "  if user_input == '1':\n",
        "    # Once an admin has logged in, this option is disabled and tells the user they are already logged in\n",
        "    if logged_in:\n",
        "      print('\\nYou are already logged in! \\U0001f600')\n",
        "      continue\n",
        "    admin_login()\n",
        "  # If user inputs 2, it prompts the user to add products. This option can only be accessed after the admin logs in\n",
        "  elif user_input == '2':\n",
        "    if logged_in:\n",
        "      add_products()\n",
        "    else:\n",
        "      print('\\nLogin Frist!')\n",
        "  # If user inputs 3, it prompts the user to buy food. This option can be accessed by anyone\n",
        "  elif user_input == '3':\n",
        "    buy_food()\n",
        "  # If user inputs 4, it stops the program\n",
        "  elif user_input == '4':\n",
        "    print('\\nGoodbye! \\U0001F61E')\n",
        "    break\n",
        "  # Warns the user if the input is invalid.\n",
        "  else:\n",
        "    print(\"\\nInvalid input! Please try again \\U0001F615\")"
      ],
      "metadata": {
        "id": "booSAxOFr62-"
      },
      "execution_count": null,
      "outputs": []
    }
  ],
  "metadata": {
    "colab": {
      "provenance": []
    },
    "hide_input": false,
    "kernelspec": {
      "display_name": "Python 3",
      "language": "python",
      "name": "python3"
    },
    "language_info": {
      "codemirror_mode": {
        "name": "ipython",
        "version": 3
      },
      "file_extension": ".py",
      "mimetype": "text/x-python",
      "name": "python",
      "nbconvert_exporter": "python",
      "pygments_lexer": "ipython3",
      "version": "3.7.3"
    },
    "varInspector": {
      "cols": {
        "lenName": 16,
        "lenType": 16,
        "lenVar": 40
      },
      "kernels_config": {
        "python": {
          "delete_cmd_postfix": "",
          "delete_cmd_prefix": "del ",
          "library": "var_list.py",
          "varRefreshCmd": "print(var_dic_list())"
        },
        "r": {
          "delete_cmd_postfix": ") ",
          "delete_cmd_prefix": "rm(",
          "library": "var_list.r",
          "varRefreshCmd": "cat(var_dic_list()) "
        }
      },
      "types_to_exclude": [
        "module",
        "function",
        "builtin_function_or_method",
        "instance",
        "_Feature"
      ],
      "window_display": false
    }
  },
  "nbformat": 4,
  "nbformat_minor": 0
}